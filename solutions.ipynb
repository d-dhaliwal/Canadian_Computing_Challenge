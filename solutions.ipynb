{
 "cells": [
  {
   "cell_type": "code",
   "execution_count": null,
   "metadata": {},
   "outputs": [],
   "source": []
  },
  {
   "cell_type": "code",
   "execution_count": null,
   "metadata": {},
   "outputs": [],
   "source": [
    "apple_three = int(input())\n",
    "apple_two = int(input())\n",
    "apple_one = int(input())\n",
    "\n",
    "banana_three = int(input())\n",
    "banana_two = int(input())\n",
    "banana_one = int(input())\n",
    "\n",
    "apple_total = apple_three * 3 + apple_two * 2 + apple_one\n",
    "banana_total = banana_three * 3 + banana_two * 2 + banana_one\n",
    "\n",
    "if apple_total > banana_total:\n",
    "    print('A')\n",
    "elif apple_total < banana_total:\n",
    "    print('B')\n",
    "else:\n",
    "    print('T')        "
   ]
  },
  {
   "cell_type": "code",
   "execution_count": 1,
   "metadata": {},
   "outputs": [],
   "source": [
    "# Burgers\n",
    "\n",
    "meals_dict = {\n",
    "    \"Burger\" : {\n",
    "        1 : [\"Cheeseburger\", 461],\n",
    "        2 : [\"Fish Burger\", 431],\n",
    "        3 : [\"Veggie Burger\", 420],\n",
    "        4 : [\"No Burger\", 0],\n",
    "    },\n",
    "    \"Drink\" : {\n",
    "        1 : [\"Soft Drink\", 130],\n",
    "        2 : [\"Orange Juice\", 160],\n",
    "        3 : [\"Milk\", 118],\n",
    "        4 : [\"No Drink\", 0],\n",
    "    },\n",
    "    \"Side\" : {\n",
    "        1 : [\"Fries\", 100],\n",
    "        2 : [\"Baked Potato\", 57],\n",
    "        3 : [\"Chef Salad\", 70],\n",
    "        4 : [\"No Side Order\", 0],\n",
    "    },\n",
    "    \"Dessert\" : {\n",
    "        1 : [\"Apple Pie\", 167],\n",
    "        2 : [\"Sundae\", 266],\n",
    "        3 : [\"Fruit Cup\", 75],\n",
    "        4 : [\"No Dessert\", 0],\n",
    "    },\n",
    "}"
   ]
  },
  {
   "cell_type": "code",
   "execution_count": 4,
   "metadata": {},
   "outputs": [
    {
     "name": "stdout",
     "output_type": "stream",
     "text": [
      "Your total calorie count is 944.\n"
     ]
    }
   ],
   "source": [
    "burger_choice = int(input())\n",
    "side_choice = int(input())\n",
    "drink_choice = int(input())\n",
    "dessert_choice = int(input())\n",
    "\n",
    "total_cals = meals_dict['Burger'][burger_choice][1] + meals_dict['Drink'][drink_choice][1] + meals_dict['Side'][side_choice][1] + meals_dict['Dessert'][dessert_choice][1]\n",
    "print(f'Your total Calorie count is {total_cals}.')"
   ]
  },
  {
   "cell_type": "code",
   "execution_count": null,
   "metadata": {},
   "outputs": [],
   "source": [
    "month = int(input())\n",
    "day = int(input())\n",
    "\n",
    "if month > 2:\n",
    "    print('After')\n",
    "elif month == 2 and day > 18:\n",
    "    print('After')\n",
    "elif month == 2 and day == 18:\n",
    "    print('Special')\n",
    "else:\n",
    "    print('Before')           "
   ]
  },
  {
   "cell_type": "code",
   "execution_count": 10,
   "metadata": {},
   "outputs": [
    {
     "name": "stdout",
     "output_type": "stream",
     "text": [
      "happy\n"
     ]
    }
   ],
   "source": [
    "text = input()\n",
    "sum = text.count(':-)') + text.count(':-(') \n",
    "\n",
    "if sum == 0:\n",
    "    print('none')\n",
    "elif text.count(':-)') > text.count(':-('):\n",
    "    print(\"happy\")\n",
    "elif text.count(':-)') < text.count(':-('): \n",
    "    print('sad') \n",
    "else: \n",
    "    print('unsure')     \n"
   ]
  },
  {
   "cell_type": "code",
   "execution_count": 11,
   "metadata": {},
   "outputs": [
    {
     "name": "stdout",
     "output_type": "stream",
     "text": [
      "C.C. is very satisfied with her pizza.\n"
     ]
    }
   ],
   "source": [
    "W = int(input())\n",
    "C = int(input())\n",
    "\n",
    "if W == 3 and C >= 95:\n",
    "    print(f'C.C. is absolutely satisfied with her pizza.')\n",
    "elif W == 1 and C <= 50:\n",
    "    print(f'C.C. is fairly satisfied with her pizza.')\n",
    "else:\n",
    "    print(f'C.C. is very satisfied with her pizza.')        "
   ]
  },
  {
   "cell_type": "code",
   "execution_count": 14,
   "metadata": {},
   "outputs": [
    {
     "name": "stdout",
     "output_type": "stream",
     "text": [
      "100\n"
     ]
    }
   ],
   "source": [
    "# \n",
    "bowl_wt = [0, 0, 0]\n",
    "bowl_wt[0] = int(input())\n",
    "bowl_wt[1] = int(input())\n",
    "bowl_wt[2] = int(input())\n",
    "\n",
    "bowl_wt.sort()\n",
    "print(bowl_wt[1])\n"
   ]
  },
  {
   "cell_type": "code",
   "execution_count": 45,
   "metadata": {},
   "outputs": [
    {
     "name": "stdout",
     "output_type": "stream",
     "text": [
      "ignore\n"
     ]
    }
   ],
   "source": [
    "p1 = int(input())\n",
    "p2 = int(input())\n",
    "p3 = int(input())\n",
    "p4 = int(input())\n",
    "\n",
    "\n",
    "if ((p1 == 8 or p1 == 9) and (p4 == 8 or p4 == 9) and (p2 == p3)):\n",
    "    print(\"ignore\")\n",
    "else:\n",
    "    print(\"answer\")\n"
   ]
  },
  {
   "cell_type": "code",
   "execution_count": 64,
   "metadata": {},
   "outputs": [
    {
     "name": "stdout",
     "output_type": "stream",
     "text": [
      "Valid\n"
     ]
    }
   ],
   "source": [
    "pswrd = input()\n",
    "\n",
    "pswrd_len = len(pswrd)\n",
    "\n",
    "if not (6 <= pswrd_len <= 12):\n",
    "    print(\"Invalid\")\n",
    "else:    \n",
    "    lower_case = 0\n",
    "    upper_case = 0\n",
    "    digits = 0\n",
    "\n",
    "    for char in pswrd:\n",
    "        if char.isupper() == True:\n",
    "            upper_case += 1\n",
    "        elif char.islower() == True:\n",
    "            lower_case += 1\n",
    "        elif char.isdigit() == True:\n",
    "            digits += 1\n",
    "\n",
    "    if ((digits > 0) and (upper_case > 1) and (lower_case > 2)):\n",
    "        print(\"Valid\")        "
   ]
  },
  {
   "cell_type": "markdown",
   "metadata": {},
   "source": [
    " "
   ]
  },
  {
   "cell_type": "code",
   "execution_count": 81,
   "metadata": {},
   "outputs": [
    {
     "name": "stdout",
     "output_type": "stream",
     "text": [
      "['HHHHOOOONNNN', '', '', '', 'CDEVNEDJVN']\n"
     ]
    }
   ],
   "source": [
    "word = str(\"HHHHOOOONNNNIIIICDEVNEDJVN\")\n",
    "\n",
    "# get separate strings each start with H and end with I\n",
    "\n",
    "# in each string make sure there are only 4 letters, H O N I\n",
    "print(new_word)\n",
    "# COUNT\n",
    "\n",
    "\n"
   ]
  },
  {
   "cell_type": "code",
   "execution_count": 71,
   "metadata": {},
   "outputs": [
    {
     "data": {
      "text/plain": [
       "' HHHHOOOONNNNIIII'"
      ]
     },
     "execution_count": 71,
     "metadata": {},
     "output_type": "execute_result"
    }
   ],
   "source": []
  },
  {
   "cell_type": "code",
   "execution_count": 21,
   "metadata": {},
   "outputs": [
    {
     "name": "stdout",
     "output_type": "stream",
     "text": [
      "4\n"
     ]
    }
   ],
   "source": [
    "\n",
    "threshold = 750\n",
    "zero_patients = 1\n",
    "spread_rate = 5\n",
    "\n",
    "total_people_infected = 0\n",
    "day = 0\n",
    "\n",
    "while total_people_infected <= threshold:\n",
    "    day += 1\n",
    "    if day == 1:\n",
    "      new_infections = zero_patients * spread_rate\n",
    "      total_people_infected = zero_patients + new_infections\n",
    "    elif day > 1:\n",
    "      new_infections = new_infections * spread_rate\n",
    "      total_people_infected += new_infections\n",
    "\n",
    "\n",
    "print(day)"
   ]
  },
  {
   "cell_type": "code",
   "execution_count": 68,
   "metadata": {},
   "outputs": [
    {
     "name": "stdout",
     "output_type": "stream",
     "text": [
      "5\n",
      "Goran\n"
     ]
    }
   ],
   "source": [
    "N = 10\n",
    "correct_order = 'BBCBABCCAA'\n",
    "\n",
    "A = 'ABC' * N\n",
    "A = A[:N]\n",
    "\n",
    "B = 'BABC' * N\n",
    "B = B[:N]\n",
    "\n",
    "G = 'CCAABB' * N\n",
    "G = G[:N]\n",
    "\n",
    "i = 0\n",
    "Adrian = \"\"\n",
    "Bruno = \"\"\n",
    "Goran = \"\"\n",
    "\n",
    "while i < len(correct_order):\n",
    "    if correct_order[i] == A[i]:\n",
    "        Adrian += A[i]\n",
    "        \n",
    "    if correct_order[i] == B[i]:\n",
    "        Bruno += B[i]\n",
    "\n",
    "    if correct_order[i] == G[i]:\n",
    "        Goran += G[i]        \n",
    "    i += 1\n",
    "\n",
    "\n",
    "my_dict = {\n",
    "    \"Name\" : [\"Adrian\", \"Bruno\", \"Goran\"],\n",
    "    \"Score\" : [len(Adrian), len(Bruno), len(Goran)],\n",
    "}\n",
    "\n",
    "max_score = max(my_dict[\"Score\"])\n",
    "print(max_score)\n",
    "\n",
    "for i in range(len(my_dict[\"Score\"])):\n",
    "    if my_dict[\"Score\"][i] == max_score:\n",
    "        print(my_dict['Name'][i])\n"
   ]
  },
  {
   "cell_type": "code",
   "execution_count": 2,
   "metadata": {},
   "outputs": [
    {
     "name": "stdout",
     "output_type": "stream",
     "text": [
      "colour\n"
     ]
    }
   ],
   "source": [
    "while True:\n",
    "    word = input()\n",
    "    if word == 'quit!':\n",
    "        break\n",
    "    if len(word) > 4 and word[-2:] == 'or' and word[-3] not in 'aeiouy':\n",
    "        canadian_spelling = word[:-2] + 'our'\n",
    "        print(canadian_spelling)\n",
    "    else:\n",
    "        print(word)\n",
    "    "
   ]
  },
  {
   "cell_type": "code",
   "execution_count": 37,
   "metadata": {},
   "outputs": [
    {
     "name": "stdout",
     "output_type": "stream",
     "text": [
      "45\n",
      "29\n",
      "13\n",
      "29\n",
      "61\n",
      "45\n",
      "45\n",
      "45\n",
      "45\n",
      "61\n"
     ]
    }
   ],
   "source": [
    "box = []\n",
    "while True:\n",
    "    S = input()\n",
    "    box.append(S)\n",
    "    if box.count(\"end of box\") == 10:\n",
    "        break\n",
    "\n",
    "i = 1\n",
    "j = 0\n",
    "my_dict = {}\n",
    "while i <= 10 and j < len(box):\n",
    "    if box[j] == 'end of box':\n",
    "        my_dict[str(i)] = box[:j]\n",
    "        i += 1\n",
    "        box = box[j+1:]\n",
    "        j = 0\n",
    "    else:\n",
    "        j += 1  \n",
    "\n",
    "for list_num in range(1,11):\n",
    "    reds = my_dict[str(list_num)].count('red')\n",
    "    oranges = my_dict[str(list_num)].count('orange')\n",
    "    blue = my_dict[str(list_num)].count('blue')\n",
    "    green = my_dict[str(list_num)].count('green')\n",
    "    yellow = my_dict[str(list_num)].count('yellow')\n",
    "    pink = my_dict[str(list_num)].count('pink')\n",
    "    violet = my_dict[str(list_num)].count('violet')\n",
    "    brown = my_dict[str(list_num)].count('brown')\n",
    "\n",
    "\n",
    "    time_oranges = (oranges//7 + (1 if oranges % 7 > 0 else 0)) * 13\n",
    "    time_blue = (blue//7 + (1 if blue % 7 > 0 else 0)) * 13\n",
    "    time_green = (green//7 + (1 if green % 7 > 0 else 0)) * 13\n",
    "    time_yellow = (yellow//7 + (1 if yellow % 7 > 0 else 0)) * 13\n",
    "    time_pink = (pink//7 + (1 if pink % 7 > 0 else 0)) * 13\n",
    "    time_violet = (violet//7 + (1 if violet % 7 > 0 else 0)) * 13\n",
    "    time_brown = (brown//7 + (1 if brown % 7 > 0 else 0)) * 13\n",
    "    time_non_reds = time_oranges + time_blue + time_green + time_yellow + time_pink + time_violet + time_brown \n",
    "    time_reds = reds * 16\n",
    "    print(time_non_reds + time_reds)\n",
    "\n",
    "                \n",
    "                \n",
    "    "
   ]
  },
  {
   "cell_type": "code",
   "execution_count": null,
   "metadata": {},
   "outputs": [],
   "source": [
    "for boxes in range(10):\n",
    "    box = {'blue': 0, 'brown': 0,'green': 0,'orange': 0,'pink': 0,'red': 0,'violet': 0,'yellow': 0}\n",
    "    next = input()\n",
    "    while next != 'end of box':\n",
    "        box[next] += 1\n",
    "        next = input()\n",
    "\n",
    "    ttime = 0\n",
    "    for item in box:\n",
    "        if item == 'red':\n",
    "            ttime += box[item] * 16\n",
    "        elif box[item] % 7 == 0:\n",
    "            ttime += (box[item] // 7) * 13\n",
    "        else:\n",
    "            ttime += (box[item] // 7 + 1) * 13\n",
    "\n",
    "    print(ttime)"
   ]
  },
  {
   "cell_type": "code",
   "execution_count": null,
   "metadata": {},
   "outputs": [],
   "source": []
  },
  {
   "cell_type": "code",
   "execution_count": null,
   "metadata": {},
   "outputs": [],
   "source": [
    "N =int(input())\n",
    "\n",
    "char_list = []\n",
    "\n",
    "for i in range(0,N)\n"
   ]
  }
 ],
 "metadata": {
  "kernelspec": {
   "display_name": "Python 3",
   "language": "python",
   "name": "python3"
  },
  "language_info": {
   "codemirror_mode": {
    "name": "ipython",
    "version": 3
   },
   "file_extension": ".py",
   "mimetype": "text/x-python",
   "name": "python",
   "nbconvert_exporter": "python",
   "pygments_lexer": "ipython3",
   "version": "3.11.2"
  }
 },
 "nbformat": 4,
 "nbformat_minor": 2
}
